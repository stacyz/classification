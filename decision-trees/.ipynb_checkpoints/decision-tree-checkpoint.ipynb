{
 "cells": [
  {
   "cell_type": "markdown",
   "metadata": {},
   "source": [
    "# Decision Trees\n",
    "An introductory example of decision trees using data from this [interactive visualization](http://www.r2d3.us/visual-intro-to-machine-learning-part-1/). This is an over-simplified example that doesn't use **normalization** as a pre-processing step, or **cross validation** as a mechanism for tuning the model."
   ]
  },
  {
   "cell_type": "markdown",
   "metadata": {},
   "source": [
    "## Set up"
   ]
  },
  {
   "cell_type": "code",
   "execution_count": 1,
   "metadata": {
    "collapsed": true
   },
   "outputs": [],
   "source": [
    "# Load packages\n",
    "import pandas as pd\n",
    "from sklearn import tree\n",
    "from __future__ import division\n",
    "from sklearn.cross_validation import train_test_split\n",
    "from sklearn.neighbors import KNeighborsClassifier\n",
    "%matplotlib inline\n",
    "import matplotlib.pyplot as plt\n",
    "import numpy as np"
   ]
  },
  {
   "cell_type": "code",
   "execution_count": 2,
   "metadata": {
    "collapsed": true
   },
   "outputs": [],
   "source": [
    "# Read data\n",
    "df = pd.read_csv('./data/housing-data.csv')"
   ]
  },
  {
   "cell_type": "markdown",
   "metadata": {},
   "source": [
    "## Data Exploration\n",
    "Some basic exploratory analysis before creating a decision tree"
   ]
  },
  {
   "cell_type": "code",
   "execution_count": 5,
   "metadata": {
    "collapsed": false
   },
   "outputs": [
    {
     "name": "stdout",
     "output_type": "stream",
     "text": [
      "     in_sf  beds  bath     price  year_built  sqft  price_per_sqft  elevation\n",
      "0        0   2.0   1.0    999000        1960  1000             999         10\n",
      "1        0   2.0   2.0   2750000        2006  1418            1939          0\n",
      "2        0   2.0   2.0   1350000        1900  2150             628          9\n",
      "3        0   1.0   1.0    629000        1903   500            1258          9\n",
      "4        0   0.0   1.0    439000        1930   500             878         10\n",
      "5        0   0.0   1.0    439000        1930   500             878         10\n",
      "6        0   1.0   1.0    475000        1920   500             950         10\n",
      "7        0   1.0   1.0    975000        1930   900            1083         10\n",
      "8        0   1.0   1.0    975000        1930   900            1083         12\n",
      "9        0   2.0   1.0   1895000        1921  1000            1895         12\n",
      "10       0   3.0   3.0   2095000        1926  2200             952          4\n",
      "11       0   1.0   1.0    999000        1982   784            1274          5\n",
      "12       0   1.0   1.0    999000        1982   784            1274          5\n",
      "13       0   1.0   1.0   1249000        1987   826            1512          3\n",
      "14       0   0.0   1.0   1110000        2008   698            1590          5\n",
      "15       0   2.0   2.0   2059500        2008  1373            1500          5\n",
      "16       0   2.0   2.0   2000000        1928  1200            1667         10\n",
      "17       0   1.0   1.0    715000        1903   557            1284          3\n",
      "18       0   2.0   2.0   2498000        2005  1260            1983          2\n",
      "19       0   2.0   1.5   2650000        1915  2500            1060          5\n",
      "20       0   2.0   2.0   3450000        1900  1850            1865          9\n",
      "21       0   1.0   1.0   3105000        2016  1108            2802         10\n",
      "22       0   4.0   5.0  13750000        2016  3699            3717         10\n",
      "23       0   2.0   2.0   1185000        1900  1000            1185          4\n",
      "24       0   1.0   2.0   1699000        1900  1500            1133          5\n",
      "25       0   1.0   1.0   1195000        1900  1093            1093          6\n",
      "26       0   1.0   1.0    450000        1920   500             900         10\n",
      "27       0   1.0   1.0   1195000        1900  1093            1093         10\n",
      "28       0   2.0   2.0   1185000        1900  1000            1185         10\n",
      "29       0   0.0   1.0    625000        1964   800             781          8\n",
      "..     ...   ...   ...       ...         ...   ...             ...        ...\n",
      "462      1   3.0   2.5   1539514        2014  2024             761        136\n",
      "463      1   3.0   2.5   1339000        2015  2133             628        143\n",
      "464      1   3.0   2.5   1294000        2015  2133             607        143\n",
      "465      1   3.0   2.5   1611000        2015  2001             805        153\n",
      "466      1   2.0   2.0   1495000        1913  1174            1273         35\n",
      "467      1   1.0   1.0    699000        1908   750             932         36\n",
      "468      1   2.0   2.5   3495000        1900  1968            1776         76\n",
      "469      1   4.0   2.0    699000        1949  1550             451         11\n",
      "470      1   2.0   1.0    699000        1949  1050             666         64\n",
      "471      1   3.0   3.0    888000        1975  1555             571         79\n",
      "472      1   1.0   1.0    599000        1945   631             949         84\n",
      "473      1   3.0   3.0    758000        1989  2157             351         90\n",
      "474      1   2.0   2.0   1698000        2008  1620            1048          1\n",
      "475      1   2.0   2.0   1698000        2008  1620            1048          1\n",
      "476      1   1.0   1.0    849000        2012   886             958          2\n",
      "477      1   2.0   2.0   1675000        2012  1562            1072          2\n",
      "478      1   2.0   2.0   1695000        2007  1610            1053          2\n",
      "479      1   3.0   2.0   2219000        2012  1921            1155         13\n",
      "480      1   1.0   1.0    788000        2004   903             873          4\n",
      "481      1   2.0   2.0   1950000        1995  1930            1010          4\n",
      "482      1   0.0   1.0    539000        2000   709             760          5\n",
      "483      1   2.0   2.0    849000        1982  1030             824         24\n",
      "484      1   2.0   2.5   2495000        1940  1809            1379         48\n",
      "485      1   4.0   4.0   3760000        1894  3085            1219         49\n",
      "486      1   3.0   2.0   1799000        1926  1800             999         66\n",
      "487      1   5.0   2.5   1800000        1890  3073             586         76\n",
      "488      1   2.0   1.0    695000        1923  1045             665        106\n",
      "489      1   3.0   2.0   1650000        1922  1483            1113        106\n",
      "490      1   1.0   1.0    649000        1983   850             764        163\n",
      "491      1   3.0   2.0    995000        1956  1305             762        216\n",
      "\n",
      "[492 rows x 8 columns]\n"
     ]
    }
   ],
   "source": [
    "# What is the shape of our data?\n",
    "print(df)"
   ]
  },
  {
   "cell_type": "code",
   "execution_count": 6,
   "metadata": {
    "collapsed": false
   },
   "outputs": [
    {
     "data": {
      "text/plain": [
       "['in_sf',\n",
       " 'beds',\n",
       " 'bath',\n",
       " 'price',\n",
       " 'year_built',\n",
       " 'sqft',\n",
       " 'price_per_sqft',\n",
       " 'elevation']"
      ]
     },
     "execution_count": 6,
     "metadata": {},
     "output_type": "execute_result"
    }
   ],
   "source": [
    "# What variables are present in the dataset?\n",
    "list(df)"
   ]
  },
  {
   "cell_type": "code",
   "execution_count": 7,
   "metadata": {
    "collapsed": false
   },
   "outputs": [
    {
     "data": {
      "image/png": "[encoded data removed]",
      "text/plain": [
       "<matplotlib.figure.Figure at 0x115332780>"
      ]
     },
     "metadata": {},
     "output_type": "display_data"
    }
   ],
   "source": [
    "# What is the distribution of our outcome variable `in_sf`?\n",
    "plt.hist(df.in_sf)\n",
    "plt.show()"
   ]
  },
  {
   "cell_type": "code",
   "execution_count": 19,
   "metadata": {
    "collapsed": false
   },
   "outputs": [
    {
     "data": {
      "image/png": "[encoded data removed]",
      "text/plain": [
       "<matplotlib.figure.Figure at 0x115f9c5f8>"
      ]
     },
     "metadata": {},
     "output_type": "display_data"
    }
   ],
   "source": [
    "# How does elevation vary for houses in/not-in sf (I suggest an overlapping histogram)\n",
    "#bins = np.linspace(-10, 10, 100)\n",
    "#x = df[\"elevation\"][(df[\"in_sf\"] == 0) & (df[\"C\"] == 900)]\n",
    "\n",
    "x = df[\"elevation\"][(df[\"in_sf\"] == 0)]\n",
    "y = df['elevation'][(df['in_sf'] == 1)]\n",
    "\n",
    "plt.hist(y, label='in_sf', color= 'grey')\n",
    "plt.hist(x, label='not in_sf', color='red')\n",
    "#plt.legend(loc='upper right')\n",
    "plt.xlabel('elevation')\n",
    "plt.ylabel('number')\n",
    "plt.show()"
   ]
  },
  {
   "cell_type": "markdown",
   "metadata": {},
   "source": [
    "## Build a decision tree using all variables"
   ]
  },
  {
   "cell_type": "code",
   "execution_count": 33,
   "metadata": {
    "collapsed": false
   },
   "outputs": [],
   "source": [
    "# Create variables to hold features and outcomes separately\n",
    "#features = df[['beds', 'bath',\n",
    " #'price',\n",
    " #'year_built',\n",
    " #'sqft',\n",
    " #'price_per_sqft',\n",
    " #'elevation']]\n",
    "#outcome = df[['in_sf']]\n",
    "#print(features, outcome)\n",
    "\n",
    "features = df.drop('in_sf', axis=1)\n",
    "outcome = df.in_sf"
   ]
  },
  {
   "cell_type": "code",
   "execution_count": 34,
   "metadata": {
    "collapsed": false
   },
   "outputs": [],
   "source": [
    "# Split data into testing and training sets\n",
    "train_features, test_features, train_outcome, test_outcome = train_test_split(features, outcome, test_size=0.3)"
   ]
  },
  {
   "cell_type": "code",
   "execution_count": 35,
   "metadata": {
    "collapsed": false
   },
   "outputs": [],
   "source": [
    "# Create a classifier and fit your features to your outcome\n",
    "clf = tree.DecisionTreeClassifier()\n",
    "clf = clf.fit(train_features, train_outcome)"
   ]
  },
  {
   "cell_type": "markdown",
   "metadata": {},
   "source": [
    "## Assess Model Fit"
   ]
  },
  {
   "cell_type": "code",
   "execution_count": 36,
   "metadata": {
    "collapsed": false
   },
   "outputs": [
    {
     "data": {
      "text/plain": [
       "array([1, 0, 0, 0, 0, 0, 0, 1, 1, 1, 1, 1, 1, 1, 0, 0, 0, 0, 0, 1, 1, 1, 1,\n",
       "       1, 0, 1, 1, 0, 1, 0, 0, 0, 0, 0, 0, 1, 0, 1, 1, 1, 1, 1, 0, 0, 0, 1,\n",
       "       1, 0, 1, 0, 0, 0, 1, 0, 0, 0, 0, 1, 0, 0, 1, 1, 0, 1, 1, 1, 1, 0, 0,\n",
       "       0, 0, 1, 1, 1, 0, 1, 1, 1, 1, 0, 1, 1, 0, 1, 1, 1, 0, 1, 0, 0, 0, 0,\n",
       "       1, 0, 1, 1, 0, 1, 0, 1, 1, 1, 1, 1, 1, 1, 1, 0, 1, 0, 0, 1, 0, 1, 1,\n",
       "       1, 1, 1, 1, 0, 0, 1, 1, 1, 1, 0, 0, 0, 0, 1, 1, 0, 1, 0, 0, 0, 0, 0,\n",
       "       0, 1, 1, 1, 1, 1, 0, 0, 0, 0])"
      ]
     },
     "execution_count": 36,
     "metadata": {},
     "output_type": "execute_result"
    }
   ],
   "source": [
    "# Generate a set of predictions for your test data\n",
    "test_preds = clf.predict(test_features)\n",
    "test_preds"
   ]
  },
  {
   "cell_type": "code",
   "execution_count": 38,
   "metadata": {
    "collapsed": false
   },
   "outputs": [],
   "source": [
    "# Calculate accuracy for our test set (percentage of the time that prediction == truth)\n",
    "test_acc = (test_preds == test_outcome).sum()/len(test_outcome)"
   ]
  },
  {
   "cell_type": "code",
   "execution_count": 152,
   "metadata": {
    "collapsed": false
   },
   "outputs": [],
   "source": [
    "# By comparison, how well do we predict in our training data?\n"
   ]
  },
  {
   "cell_type": "markdown",
   "metadata": {},
   "source": [
    "## Show the tree\n",
    "A little bit of a pain, though there are some alternatives to the [documentation](http://scikit-learn.org/stable/modules/tree.html) presented [here](https://github.com/scikit-learn/scikit-learn/issues/6261). You may have to do the following:\n",
    "\n",
    "```\n",
    "# Install graphviz in your terminal\n",
    "conda install graphviz\n",
    "```\n",
    "\n",
    "I then suggest the following solution:\n",
    "\n",
    "```\n",
    "tree.export_graphviz(clf, out_file=\"mytree.dot\")\n",
    "with open(\"mytree.dot\") as f:\n",
    "    dot_graph = f.read()\n",
    "graphviz.Source(dot_graph)\n",
    "```\n"
   ]
  },
  {
   "cell_type": "code",
   "execution_count": 153,
   "metadata": {
    "collapsed": false
   },
   "outputs": [],
   "source": [
    "# Create tree diagram\n"
   ]
  },
  {
   "cell_type": "markdown",
   "metadata": {},
   "source": [
    "## Comparion to KNN\n",
    "Purely out of curiosity, how well does this model fit with KNN (for K=3)"
   ]
  },
  {
   "cell_type": "code",
   "execution_count": 140,
   "metadata": {
    "collapsed": false
   },
   "outputs": [],
   "source": [
    "# Create a knn classifier"
   ]
  },
  {
   "cell_type": "code",
   "execution_count": 141,
   "metadata": {
    "collapsed": false
   },
   "outputs": [],
   "source": [
    "# Fit our classifier to our training data"
   ]
  },
  {
   "cell_type": "code",
   "execution_count": 154,
   "metadata": {
    "collapsed": false
   },
   "outputs": [],
   "source": [
    "# Predict on our test data and assess accuracy\n"
   ]
  }
 ],
 "metadata": {
  "anaconda-cloud": {},
  "kernelspec": {
   "display_name": "Python [conda root]",
   "language": "python",
   "name": "conda-root-py"
  },
  "language_info": {
   "codemirror_mode": {
    "name": "ipython",
    "version": 3
   },
   "file_extension": ".py",
   "mimetype": "text/x-python",
   "name": "python",
   "nbconvert_exporter": "python",
   "pygments_lexer": "ipython3",
   "version": "3.5.2"
  }
 },
 "nbformat": 4,
 "nbformat_minor": 1
}
